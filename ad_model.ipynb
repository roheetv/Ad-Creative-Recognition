{
 "cells": [
  {
   "cell_type": "code",
   "execution_count": null,
   "id": "84e164ec",
   "metadata": {},
   "outputs": [],
   "source": [
    "import os\n",
    "import cv2\n",
    "import numpy as np\n",
    "import pandas as pd\n",
    "from tensorflow.keras.preprocessing.image import ImageDataGenerator\n",
    "from tensorflow.keras.applications import ResNet50\n",
    "from tensorflow.keras.models import Model\n",
    "from tensorflow.keras.layers import Dense, GlobalAveragePooling2D, concatenate\n",
    "from sklearn.preprocessing import LabelEncoder\n",
    "from sklearn.model_selection import train_test_split"
   ]
  },
  {
   "cell_type": "code",
   "execution_count": null,
   "id": "c8c72598",
   "metadata": {},
   "outputs": [],
   "source": [
    "def load_images_from_dir(directory):\n",
    "    images = []\n",
    "    labels = []\n",
    "    for filename in os.listdir(directory):\n",
    "        if filename.endswith(\".jpg\") or filename.endswith(\".png\"):\n",
    "            img = cv2.imread(os.path.join(directory, filename))\n",
    "            # Resizing \n",
    "            img = cv2.resize(img, (224, 224))\n",
    "            img = img.astype(np.float32) / 255.0\n",
    "            images.append(img)\n",
    "            labels.append(directory.split('/')[-1])  \n",
    "    return np.array(images), np.array(labels)"
   ]
  },
  {
   "cell_type": "code",
   "execution_count": null,
   "id": "c72e3ebd",
   "metadata": {},
   "outputs": [],
   "source": [
    "#variable assignment\n",
    "ad_creatives_dir = \"ad-creatives\"\n",
    "non_ad_creatives_dir = \"non_ad-creatives\""
   ]
  },
  {
   "cell_type": "code",
   "execution_count": null,
   "id": "901ef085",
   "metadata": {},
   "outputs": [],
   "source": [
    "ad_images, ad_labels = load_images_from_dir(ad_creatives_dir)\n",
    "non_ad_images, non_ad_labels = load_images_from_dir(non_ad_creatives_dir)"
   ]
  },
  {
   "cell_type": "code",
   "execution_count": null,
   "id": "f926c2f1",
   "metadata": {},
   "outputs": [],
   "source": [
    "all_images = np.concatenate((ad_images, non_ad_images), axis=0)\n",
    "all_labels = np.concatenate((ad_labels, non_ad_labels), axis=0)"
   ]
  },
  {
   "cell_type": "code",
   "execution_count": null,
   "id": "528af3cd",
   "metadata": {},
   "outputs": [],
   "source": [
    "indices = np.arange(all_images.shape[0])\n",
    "np.random.shuffle(indices)\n",
    "all_images = all_images[indices]\n",
    "all_labels = all_labels[indices]"
   ]
  },
  {
   "cell_type": "code",
   "execution_count": null,
   "id": "67ac3226",
   "metadata": {},
   "outputs": [],
   "source": [
    "print(\"Shape of all images:\", all_images.shape)\n",
    "print(\"Shape of all labels:\", all_labels.shape)"
   ]
  },
  {
   "cell_type": "code",
   "execution_count": null,
   "id": "c33c7997",
   "metadata": {},
   "outputs": [],
   "source": [
    "# data augmentation\n",
    "datagen = ImageDataGenerator(\n",
    "    rotation_range=20,      \n",
    "    width_shift_range=0.1,  \n",
    "    height_shift_range=0.1, \n",
    "    shear_range=0.2,        \n",
    "    zoom_range=0.2,         \n",
    "    horizontal_flip=True,   \n",
    "    fill_mode='nearest'     \n",
    ")"
   ]
  },
  {
   "cell_type": "code",
   "execution_count": null,
   "id": "5ee9a581",
   "metadata": {},
   "outputs": [],
   "source": [
    "def augment_images(images):\n",
    "    augmented_images = []\n",
    "    for image in images:\n",
    "        image = np.expand_dims(image, axis=0)  \n",
    "        augmented_image = next(datagen.flow(image))[0]\n",
    "        augmented_images.append(augmented_image)\n",
    "    return np.array(augmented_images)"
   ]
  },
  {
   "cell_type": "code",
   "execution_count": null,
   "id": "e2a38dd3",
   "metadata": {},
   "outputs": [],
   "source": [
    "augmented_ad_images = augment_images(ad_images)"
   ]
  },
  {
   "cell_type": "code",
   "execution_count": null,
   "id": "2bb13e1b",
   "metadata": {},
   "outputs": [],
   "source": [
    "augmented_non_ad_images = augment_images(non_ad_images)"
   ]
  },
  {
   "cell_type": "code",
   "execution_count": null,
   "id": "d723cf02",
   "metadata": {},
   "outputs": [],
   "source": [
    "from sklearn.preprocessing import LabelEncoder\n",
    "from sklearn.model_selection import train_test_split"
   ]
  },
  {
   "cell_type": "code",
   "execution_count": null,
   "id": "54a67b32",
   "metadata": {},
   "outputs": [],
   "source": [
    "#categorical to numerical\n",
    "label_encoder = LabelEncoder()\n",
    "all_labels_encoded = label_encoder.fit_transform(all_labels)"
   ]
  },
  {
   "cell_type": "code",
   "execution_count": null,
   "id": "36b44314",
   "metadata": {},
   "outputs": [],
   "source": [
    "X_train, X_test, y_train, y_test = train_test_split(all_images, all_labels_encoded, test_size=0.2, random_state=42)"
   ]
  },
  {
   "cell_type": "code",
   "execution_count": null,
   "id": "3cb2bb3e",
   "metadata": {},
   "outputs": [],
   "source": [
    "X_train, X_val, y_train, y_val = train_test_split(X_train, y_train, test_size=0.2, random_state=42)"
   ]
  },
  {
   "cell_type": "code",
   "execution_count": null,
   "id": "66ca2495",
   "metadata": {},
   "outputs": [],
   "source": [
    "print(\"Shape of X_train:\", X_train.shape)\n",
    "print(\"Shape of y_train:\", y_train.shape)\n",
    "print(\"Shape of X_val:\", X_val.shape)\n",
    "print(\"Shape of y_val:\", y_val.shape)\n",
    "print(\"Shape of X_test:\", X_test.shape)\n",
    "print(\"Shape of y_test:\", y_test.shape)"
   ]
  },
  {
   "cell_type": "code",
   "execution_count": null,
   "id": "03b3aaae",
   "metadata": {},
   "outputs": [],
   "source": [
    "#ResNet would be a good choice here for model building."
   ]
  },
  {
   "cell_type": "code",
   "execution_count": null,
   "id": "9b757c6d",
   "metadata": {},
   "outputs": [],
   "source": [
    "from tensorflow.keras.applications import ResNet50\n",
    "from tensorflow.keras.models import Model\n",
    "from tensorflow.keras.layers import Dense, GlobalAveragePooling2D, concatenate"
   ]
  },
  {
   "cell_type": "code",
   "execution_count": null,
   "id": "4bc40e78",
   "metadata": {},
   "outputs": [],
   "source": [
    "base_model = ResNet50(weights='imagenet', include_top=False, input_shape=(224, 224, 3))"
   ]
  },
  {
   "cell_type": "code",
   "execution_count": null,
   "id": "fe3b0fbb",
   "metadata": {},
   "outputs": [],
   "source": [
    "for layer in base_model.layers:\n",
    "    layer.trainable = False"
   ]
  },
  {
   "cell_type": "code",
   "execution_count": null,
   "id": "05cde98f",
   "metadata": {},
   "outputs": [],
   "source": [
    "x = base_model.output\n",
    "x = GlobalAveragePooling2D()(x)\n",
    "x = Dense(128, activation='relu')(x)  \n",
    "predictions = Dense(1, activation='sigmoid')(x)"
   ]
  },
  {
   "cell_type": "code",
   "execution_count": null,
   "id": "99d60020",
   "metadata": {},
   "outputs": [],
   "source": [
    "model = Model(inputs=base_model.input, outputs=predictions)"
   ]
  },
  {
   "cell_type": "code",
   "execution_count": null,
   "id": "8800e558",
   "metadata": {},
   "outputs": [],
   "source": [
    "import tensorflow as tf"
   ]
  },
  {
   "cell_type": "code",
   "execution_count": null,
   "id": "a7cca85f",
   "metadata": {
    "scrolled": true
   },
   "outputs": [],
   "source": [
    "from tensorflow.keras.optimizers import Adam\n",
    "from tensorflow.keras.optimizers.schedules import ExponentialDecay\n",
    "\n",
    "initial_learning_rate = 0.001\n",
    "decay_steps = 1000\n",
    "decay_rate = 0.9\n",
    "\n",
    "learning_rate_schedule = ExponentialDecay(\n",
    "    initial_learning_rate, decay_steps, decay_rate, staircase=True\n",
    ")\n",
    "optimizer = Adam(learning_rate=learning_rate_schedule)\n",
    "\n",
    "model.compile(optimizer=optimizer, loss='sparse_categorical_crossentropy', metrics=['accuracy'])\n",
    "\n",
    "model.summary()"
   ]
  },
  {
   "cell_type": "code",
   "execution_count": null,
   "id": "ad82329b",
   "metadata": {},
   "outputs": [],
   "source": [
    "#Now training the model"
   ]
  },
  {
   "cell_type": "code",
   "execution_count": null,
   "id": "319fd937",
   "metadata": {},
   "outputs": [],
   "source": [
    "history = model.fit(\n",
    "    X_train, y_train,\n",
    "    epochs=10,  \n",
    "    batch_size=32,  \n",
    "    validation_data=(X_val, y_val),\n",
    "    verbose=1\n",
    ")"
   ]
  },
  {
   "cell_type": "code",
   "execution_count": null,
   "id": "e18bc099",
   "metadata": {},
   "outputs": [],
   "source": [
    "print(\"hello\")"
   ]
  },
  {
   "cell_type": "code",
   "execution_count": null,
   "id": "006e02d2",
   "metadata": {},
   "outputs": [],
   "source": [
    "loss, accuracy = model.evaluate(X_test, y_test)\n",
    "print(\"Test Loss:\", loss)\n",
    "print(\"Test Accuracy:\", accuracy)"
   ]
  },
  {
   "cell_type": "code",
   "execution_count": null,
   "id": "534dc267",
   "metadata": {},
   "outputs": [],
   "source": [
    "#Manually checking using few examples"
   ]
  },
  {
   "cell_type": "code",
   "execution_count": null,
   "id": "1f756bc5",
   "metadata": {},
   "outputs": [],
   "source": [
    "import matplotlib.pyplot as plt"
   ]
  },
  {
   "cell_type": "code",
   "execution_count": null,
   "id": "780bce9a",
   "metadata": {},
   "outputs": [],
   "source": [
    "sample_indices = np.random.choice(X_test.shape[0], size=5, replace=False)\n",
    "sample_images = X_test[sample_indices]\n",
    "sample_labels = y_test[sample_indices]"
   ]
  },
  {
   "cell_type": "code",
   "execution_count": null,
   "id": "775fc45d",
   "metadata": {},
   "outputs": [],
   "source": [
    "predictions = model.predict(sample_images)\n",
    "predicted_labels = np.round(predictions).astype(int)"
   ]
  },
  {
   "cell_type": "code",
   "execution_count": null,
   "id": "41a1a212",
   "metadata": {},
   "outputs": [],
   "source": [
    "for i in range(len(sample_indices)):\n",
    "    plt.imshow(sample_images[i])\n",
    "    plt.title(f\"Predicted: {predicted_labels[i]}, True: {sample_labels[i]}\")\n",
    "    plt.axis('off')\n",
    "    plt.show()"
   ]
  },
  {
   "cell_type": "code",
   "execution_count": null,
   "id": "4967e95d",
   "metadata": {},
   "outputs": [],
   "source": [
    "def map_labels_to_strings(labels):\n",
    "    label_map = {0: \"ad\", 1: \"non-ad\"}\n",
    "    return [label_map[label] for label in labels]"
   ]
  },
  {
   "cell_type": "code",
   "execution_count": null,
   "id": "93920e0c",
   "metadata": {},
   "outputs": [],
   "source": [
    "def display_sample_images(images, labels, predictions):\n",
    "    for i in range(len(images)):\n",
    "        plt.imshow(images[i])\n",
    "        plt.title(f\"Predicted: {predictions[i]}, True: {labels[i]}\")\n",
    "        plt.axis('off')\n",
    "        plt.show()\n",
    "num_samples = 5"
   ]
  },
  {
   "cell_type": "code",
   "execution_count": null,
   "id": "069e37c5",
   "metadata": {},
   "outputs": [],
   "source": [
    "while True:\n",
    "    sample_indices = np.random.choice(X_test.shape[0], size=num_samples, replace=False)\n",
    "    sample_images = X_test[sample_indices]\n",
    "    sample_labels = y_test[sample_indices]\n",
    "\n",
    "    predictions = model.predict(sample_images)\n",
    "    predicted_labels = np.round(predictions).astype(int)\n",
    "\n",
    "    display_sample_images(sample_images, sample_labels, predicted_labels)\n",
    "\n",
    "    user_input = input(\"Do you want to continue checking? (yes/no): \").lower()\n",
    "    if user_input != 'yes':\n",
    "        break"
   ]
  },
  {
   "cell_type": "code",
   "execution_count": null,
   "id": "08c3bd2f",
   "metadata": {},
   "outputs": [],
   "source": [
    "#Add probability scores and work for the web app"
   ]
  },
  {
   "cell_type": "code",
   "execution_count": null,
   "id": "895dc1cd",
   "metadata": {},
   "outputs": [],
   "source": [
    "print(\"till now good\")"
   ]
  },
  {
   "cell_type": "code",
   "execution_count": null,
   "id": "4c3402c0",
   "metadata": {},
   "outputs": [],
   "source": [
    "from sklearn.metrics import accuracy_score, precision_score, recall_score, f1_score, confusion_matrix\n",
    "\n",
    "# Define a function to display sample images with predictions and probability scores\n",
    "def display_sample_images_with_prob(images, labels, predictions, prob_scores):\n",
    "    for i in range(len(images)):\n",
    "        plt.imshow(images[i])\n",
    "        plt.title(f\"Predicted: {predictions[i]}, Probability: {prob_scores[i][0]:.2f}, True: {labels[i]}\")\n",
    "        plt.axis('off')\n",
    "        plt.show()\n",
    "\n",
    "y_pred_prob = model.predict(X_test)\n",
    "y_pred = np.round(y_pred_prob).astype(int)\n",
    "\n",
    "# Calculate evaluation metrics\n",
    "accuracy = accuracy_score(y_test, y_pred)\n",
    "precision = precision_score(y_test, y_pred)\n",
    "recall = recall_score(y_test, y_pred)\n",
    "f1 = f1_score(y_test, y_pred)\n",
    "conf_matrix = confusion_matrix(y_test, y_pred)\n",
    "\n",
    "# Display evaluation metrics\n",
    "print(\"Evaluation Metrics:\")\n",
    "print(\"Accuracy:\", accuracy)\n",
    "print(\"Precision:\", precision)\n",
    "print(\"Recall:\", recall)\n",
    "print(\"F1-score:\", f1)\n",
    "print(\"Confusion Matrix:\")\n",
    "print(conf_matrix)\n",
    "\n",
    "# Display sample images with predictions and probability scores\n",
    "display_sample_images_with_prob(X_test, y_test, y_pred, y_pred_prob)\n"
   ]
  },
  {
   "cell_type": "code",
   "execution_count": null,
   "id": "cc791581",
   "metadata": {},
   "outputs": [],
   "source": [
    "from tensorflow.keras.models import save_model\n",
    "\n",
    "# Assuming that `model` is the trained model object\n",
    "model.save('C:/Users/RC PRASAD/Desktop/python ws/project/ad_deploy.h5')"
   ]
  },
  {
   "cell_type": "code",
   "execution_count": null,
   "id": "56dd167f",
   "metadata": {},
   "outputs": [],
   "source": []
  }
 ],
 "metadata": {
  "kernelspec": {
   "display_name": "Python 3 (ipykernel)",
   "language": "python",
   "name": "python3"
  },
  "language_info": {
   "codemirror_mode": {
    "name": "ipython",
    "version": 3
   },
   "file_extension": ".py",
   "mimetype": "text/x-python",
   "name": "python",
   "nbconvert_exporter": "python",
   "pygments_lexer": "ipython3",
   "version": "3.10.6"
  }
 },
 "nbformat": 4,
 "nbformat_minor": 5
}
